{
 "cells": [
  {
   "cell_type": "markdown",
   "id": "f51bb0d6-b722-4eb2-a718-714b942528e4",
   "metadata": {},
   "source": [
    "# PyCLA\n",
    "\n",
    "This notebook contains a quickstart for the `pycla` library."
   ]
  },
  {
   "cell_type": "code",
   "execution_count": 1,
   "id": "d9062f19-c431-4d96-8fcd-275f68c023b2",
   "metadata": {},
   "outputs": [],
   "source": [
    "# Core entities\n",
    "from pycla import Vector, Matrix\n",
    "\n",
    "# Utilities for CUDA device information\n",
    "from pycla.core.cuda_device import Devices\n",
    "\n",
    "# Contexts for intensive computation\n",
    "from pycla.core import ShareDestionationVector, ShareDestionationMatrix"
   ]
  },
  {
   "cell_type": "markdown",
   "id": "034282e6-3c73-432e-beb4-d07ed95eb88f",
   "metadata": {},
   "source": [
    "## Vector/Matrix Instantiation"
   ]
  },
  {
   "cell_type": "code",
   "execution_count": 2,
   "id": "ed37bf5c-8bec-40a2-9091-c75a60b31c45",
   "metadata": {},
   "outputs": [],
   "source": [
    "# Vector and Matrices can be instantiated directly from Python lists/sequences\n",
    "vector = Vector([1, 2, 3, 4, 5, 6, 7, 8, 9, 10])\n",
    "matrix = Matrix([[1, 2, 3, 4], [1, 2, 3, 4]])"
   ]
  },
  {
   "cell_type": "code",
   "execution_count": 3,
   "id": "f78cee8a-aa49-42ee-9f7e-327df55f6769",
   "metadata": {},
   "outputs": [
    {
     "data": {
      "text/plain": [
       "Vector([1.0, 2.0, 3.0, 4.0, 5.0, 6.0, 7.0, 8.0, 9.0, 10.0], dims=10, device=CPU)"
      ]
     },
     "execution_count": 3,
     "metadata": {},
     "output_type": "execute_result"
    }
   ],
   "source": [
    "# All classes implement the __repr__ function, which provides a human-readable\n",
    "#   format.\n",
    "vector"
   ]
  },
  {
   "cell_type": "code",
   "execution_count": 4,
   "id": "5e3b51e0-18e9-4642-a60a-e988bb17e153",
   "metadata": {},
   "outputs": [
    {
     "data": {
      "text/plain": [
       "Matrix([[1.0, 2.0, 3.0, 4.0], [1.0, 2.0, 3.0, 4.0]], dims=(2, 4), device=CPU)"
      ]
     },
     "execution_count": 4,
     "metadata": {},
     "output_type": "execute_result"
    }
   ],
   "source": [
    "matrix"
   ]
  },
  {
   "cell_type": "markdown",
   "id": "b5b24646-26bc-4484-9873-75951085b3b8",
   "metadata": {},
   "source": [
    "## CUDA Management"
   ]
  },
  {
   "cell_type": "code",
   "execution_count": 5,
   "id": "8ba902ce-69ed-4978-b95f-0a5c5b4a4772",
   "metadata": {},
   "outputs": [
    {
     "data": {
      "text/plain": [
       "True"
      ]
     },
     "execution_count": 5,
     "metadata": {},
     "output_type": "execute_result"
    }
   ],
   "source": [
    "# The `Devices` class implements a Singleton that\n",
    "#  exposes all available CUDA devices\n",
    "devices = Devices()\n",
    "devices.has_cuda"
   ]
  },
  {
   "cell_type": "code",
   "execution_count": 6,
   "id": "c04e6031-fc0d-4a8d-b1cc-fcff78e5eefc",
   "metadata": {},
   "outputs": [
    {
     "data": {
      "text/plain": [
       "1"
      ]
     },
     "execution_count": 6,
     "metadata": {},
     "output_type": "execute_result"
    }
   ],
   "source": [
    "# We can easily find the device count\n",
    "devices.count"
   ]
  },
  {
   "cell_type": "code",
   "execution_count": 7,
   "id": "4e33fc12-0bc7-4ca7-97fc-38eed5e5ae5c",
   "metadata": {},
   "outputs": [
    {
     "data": {
      "text/plain": [
       "[CUDADevice(id=0, name='NVIDIA GeForce GTX 1650', max_grid=(2147483647, 65535, 65535), max_block=(1024, 1024, 64), max_threads_per_block=1024)]"
      ]
     },
     "execution_count": 7,
     "metadata": {},
     "output_type": "execute_result"
    }
   ],
   "source": [
    "# Or list all available devices\n",
    "list(devices)"
   ]
  },
  {
   "cell_type": "code",
   "execution_count": 8,
   "id": "c07b0094-2c69-4446-90db-0f6d459eaeef",
   "metadata": {},
   "outputs": [
    {
     "data": {
      "text/plain": [
       "CUDADevice(id=0, name='NVIDIA GeForce GTX 1650', max_grid=(2147483647, 65535, 65535), max_block=(1024, 1024, 64), max_threads_per_block=1024)"
      ]
     },
     "execution_count": 8,
     "metadata": {},
     "output_type": "execute_result"
    }
   ],
   "source": [
    "# Devices can be acessed by id or name\n",
    "devices[0]"
   ]
  },
  {
   "cell_type": "code",
   "execution_count": 9,
   "id": "591215af-bd09-40d7-b199-b18b83e8852c",
   "metadata": {},
   "outputs": [
    {
     "data": {
      "text/plain": [
       "CUDADevice(id=0, name='NVIDIA GeForce GTX 1650', max_grid=(2147483647, 65535, 65535), max_block=(1024, 1024, 64), max_threads_per_block=1024)"
      ]
     },
     "execution_count": 9,
     "metadata": {},
     "output_type": "execute_result"
    }
   ],
   "source": [
    "# All devices contain basic information about the GPU\n",
    "devices['NVIDIA GeForce GTX 1650']"
   ]
  },
  {
   "cell_type": "code",
   "execution_count": 10,
   "id": "2dc3c1ac-d541-4ba9-9730-675a0d4647a4",
   "metadata": {},
   "outputs": [
    {
     "data": {
      "text/plain": [
       "Vector([<gpu>], dims=10, device=CUDADevice(id=0, name=\"NVIDIA GeForce GTX 1650\"))"
      ]
     },
     "execution_count": 10,
     "metadata": {},
     "output_type": "execute_result"
    }
   ],
   "source": [
    "# Vector and Matrices can be moved forth and back to the GPU with the `.to(...)` and `.cpu()` methods\n",
    "# Once an object is on the GPU, we cannot directly read its data from the CPU,\n",
    "#    however we can still retrieve its metadata (i.e., shape, device name, etc)\n",
    "vector.to(0)"
   ]
  },
  {
   "cell_type": "code",
   "execution_count": 11,
   "id": "3ff3db4f-5ee6-4536-8056-7dca1a666fd0",
   "metadata": {},
   "outputs": [
    {
     "data": {
      "text/plain": [
       "Matrix([<gpu>], dims=(2, 4), device=CUDADevice(id=0, name=\"NVIDIA GeForce GTX 1650\"))"
      ]
     },
     "execution_count": 11,
     "metadata": {},
     "output_type": "execute_result"
    }
   ],
   "source": [
    "matrix.to(0)"
   ]
  },
  {
   "cell_type": "code",
   "execution_count": 12,
   "id": "b2d6e4bf-4fe6-409f-92df-f46f7726698d",
   "metadata": {},
   "outputs": [
    {
     "data": {
      "text/plain": [
       "Vector([1.0, 2.0, 3.0, 4.0, 5.0, 6.0, 7.0, 8.0, 9.0, 10.0], dims=10, device=CPU)"
      ]
     },
     "execution_count": 12,
     "metadata": {},
     "output_type": "execute_result"
    }
   ],
   "source": [
    "# We can bring an object back to the CPU with either\n",
    "#   .to(None) or .cpu() calls\n",
    "vector.to(None)"
   ]
  },
  {
   "cell_type": "code",
   "execution_count": 13,
   "id": "b77c6dc0-11cf-445b-8302-89b25e13ab7c",
   "metadata": {},
   "outputs": [
    {
     "data": {
      "text/plain": [
       "Matrix([[1.0, 2.0, 3.0, 4.0], [1.0, 2.0, 3.0, 4.0]], dims=(2, 4), device=CPU)"
      ]
     },
     "execution_count": 13,
     "metadata": {},
     "output_type": "execute_result"
    }
   ],
   "source": [
    "matrix.cpu()"
   ]
  },
  {
   "cell_type": "markdown",
   "id": "c10b9591-60c6-4c09-8eb9-2d6240df6d4c",
   "metadata": {},
   "source": [
    "## Vector Operations"
   ]
  },
  {
   "cell_type": "code",
   "execution_count": 14,
   "id": "aece0fb2-22dd-4d32-9bfb-50d01912e648",
   "metadata": {},
   "outputs": [
    {
     "name": "stdout",
     "output_type": "stream",
     "text": [
      "False\n"
     ]
    },
    {
     "data": {
      "text/plain": [
       "Vector([1.0, 4.0, 9.0, 16.0, 25.0, 36.0, 49.0, 64.0, 81.0, 100.0], dims=10, device=CPU)"
      ]
     },
     "execution_count": 14,
     "metadata": {},
     "output_type": "execute_result"
    }
   ],
   "source": [
    "# The Vector class overrides the built-in operators\n",
    "#  of Python. Most of the time, the result of an operation\n",
    "#  return a new Vector instead of updating the current one\n",
    "#  in place.\n",
    "result = vector ** 2\n",
    "print(Vector.has_shared_data(result, vector))\n",
    "result"
   ]
  },
  {
   "cell_type": "code",
   "execution_count": 15,
   "id": "01f78bd0-5a99-4203-919e-d572eec940cb",
   "metadata": {},
   "outputs": [
    {
     "data": {
      "text/plain": [
       "Vector([2.0, 6.0, 12.0, 20.0, 30.0, 42.0, 56.0, 72.0, 90.0, 110.0], dims=10, device=CPU)"
      ]
     },
     "execution_count": 15,
     "metadata": {},
     "output_type": "execute_result"
    }
   ],
   "source": [
    "result + vector"
   ]
  },
  {
   "cell_type": "code",
   "execution_count": 16,
   "id": "7d629b0d-d2cb-438e-8c1b-5aaaf79babb1",
   "metadata": {},
   "outputs": [
    {
     "data": {
      "text/plain": [
       "Vector([0.0, 2.0, 6.0, 12.0, 20.0, 30.0, 42.0, 56.0, 72.0, 90.0], dims=10, device=CPU)"
      ]
     },
     "execution_count": 16,
     "metadata": {},
     "output_type": "execute_result"
    }
   ],
   "source": [
    "result - vector"
   ]
  },
  {
   "cell_type": "code",
   "execution_count": 17,
   "id": "737bba12-d54a-493e-a254-34be6d7c434e",
   "metadata": {},
   "outputs": [
    {
     "data": {
      "text/plain": [
       "Vector([2.0, 4.0, 6.0, 8.0, 10.0, 12.0, 14.0, 16.0, 18.0, 20.0], dims=10, device=CPU)"
      ]
     },
     "execution_count": 17,
     "metadata": {},
     "output_type": "execute_result"
    }
   ],
   "source": [
    "# The mul operator (*) implements element-wise or multiplication by scalar\n",
    "2 * vector"
   ]
  },
  {
   "cell_type": "code",
   "execution_count": 18,
   "id": "d4700e97-3066-44f4-8c45-b83df6f754dc",
   "metadata": {},
   "outputs": [
    {
     "data": {
      "text/plain": [
       "Vector([1.0, 8.0, 27.0, 64.0, 125.0, 216.0, 343.0, 512.0, 729.0, 1000.0], dims=10, device=CPU)"
      ]
     },
     "execution_count": 18,
     "metadata": {},
     "output_type": "execute_result"
    }
   ],
   "source": [
    "result * vector"
   ]
  },
  {
   "cell_type": "code",
   "execution_count": 19,
   "id": "aa962b8e-7648-41b7-914c-e7029346eefd",
   "metadata": {},
   "outputs": [
    {
     "data": {
      "text/plain": [
       "385.0"
      ]
     },
     "execution_count": 19,
     "metadata": {},
     "output_type": "execute_result"
    }
   ],
   "source": [
    "# The matmul operator (@) implements the dot-product\n",
    "vector @ vector"
   ]
  },
  {
   "cell_type": "code",
   "execution_count": 20,
   "id": "a6fc8635-9ab5-43c0-bbcb-e5d02f40d500",
   "metadata": {},
   "outputs": [
    {
     "data": {
      "text/plain": [
       "19.621416870348583"
      ]
     },
     "execution_count": 20,
     "metadata": {},
     "output_type": "execute_result"
    }
   ],
   "source": [
    "# The Vector class also exposes norms and some utilities\n",
    "vector.l2()"
   ]
  },
  {
   "cell_type": "code",
   "execution_count": 21,
   "id": "9fdae7fe-2753-4b02-957b-3b2944c72082",
   "metadata": {},
   "outputs": [
    {
     "data": {
      "text/plain": [
       "10.0"
      ]
     },
     "execution_count": 21,
     "metadata": {},
     "output_type": "execute_result"
    }
   ],
   "source": [
    "vector.max()"
   ]
  },
  {
   "cell_type": "code",
   "execution_count": 22,
   "id": "8b1a225b-4060-4aa5-b441-f833b14e5098",
   "metadata": {},
   "outputs": [
    {
     "data": {
      "text/plain": [
       "14.462447418811122"
      ]
     },
     "execution_count": 22,
     "metadata": {},
     "output_type": "execute_result"
    }
   ],
   "source": [
    "vector.lp(3.0)"
   ]
  },
  {
   "cell_type": "code",
   "execution_count": 23,
   "id": "35dabc08-8967-474a-aaaa-e213127775ab",
   "metadata": {},
   "outputs": [
    {
     "data": {
      "text/plain": [
       "True"
      ]
     },
     "execution_count": 23,
     "metadata": {},
     "output_type": "execute_result"
    }
   ],
   "source": [
    "# Orthogonality check\n",
    "Vector([2.0, 0.0]).is_orthogonal(Vector([0.0, 2.0]))"
   ]
  },
  {
   "cell_type": "code",
   "execution_count": 24,
   "id": "f961e0da-c182-402d-aafe-596945124fe0",
   "metadata": {},
   "outputs": [
    {
     "data": {
      "text/plain": [
       "90.0"
      ]
     },
     "execution_count": 24,
     "metadata": {},
     "output_type": "execute_result"
    }
   ],
   "source": [
    "# We can retrieve the angle between two vectors in rad/deg\n",
    "Vector([2.0, 0.0]).angle_to(Vector([0.0, 2.0]), unit=\"deg\")"
   ]
  },
  {
   "cell_type": "code",
   "execution_count": 25,
   "id": "f1d7fb11-0b93-465e-a355-65830cf7eb04",
   "metadata": {},
   "outputs": [],
   "source": [
    "# We can also directly release the memory allocated\n",
    "#  for a vector with\n",
    "vector.release()\n",
    "del vector"
   ]
  },
  {
   "cell_type": "markdown",
   "id": "d3daec04-6344-4d42-a2b8-84d24879ee2f",
   "metadata": {},
   "source": [
    "## Matrix Operations"
   ]
  },
  {
   "cell_type": "code",
   "execution_count": 26,
   "id": "19d90209-df54-4368-b9cc-9168448c6cc5",
   "metadata": {},
   "outputs": [
    {
     "data": {
      "text/plain": [
       "Matrix([[2.0, 4.0, 6.0, 8.0], [2.0, 4.0, 6.0, 8.0]], dims=(2, 4), device=CPU)"
      ]
     },
     "execution_count": 26,
     "metadata": {},
     "output_type": "execute_result"
    }
   ],
   "source": [
    "# In the same way we can operate on vectors,\n",
    "#  the Matrix class exposes similar functionality.\n",
    "matrix * 2"
   ]
  },
  {
   "cell_type": "code",
   "execution_count": 27,
   "id": "a979fc6b-a003-49ed-ae1e-faa0490f4601",
   "metadata": {},
   "outputs": [
    {
     "data": {
      "text/plain": [
       "Matrix([[0.0, 0.0, 0.0, 0.0], [0.0, 0.0, 0.0, 0.0]], dims=(2, 4), device=CPU)"
      ]
     },
     "execution_count": 27,
     "metadata": {},
     "output_type": "execute_result"
    }
   ],
   "source": [
    "matrix - matrix"
   ]
  },
  {
   "cell_type": "code",
   "execution_count": 28,
   "id": "b5b42800-2599-45c9-adfa-e9eb628dd823",
   "metadata": {},
   "outputs": [
    {
     "data": {
      "text/plain": [
       "Matrix([[8.0], [8.0]], dims=(2, 1), device=CPU)"
      ]
     },
     "execution_count": 28,
     "metadata": {},
     "output_type": "execute_result"
    }
   ],
   "source": [
    "# The matmul operator implements Matrix multiplication\n",
    "Matrix([[2.0, 2.0], [2.0, 2.0]]) @ Matrix([[2.0], [2.0]])"
   ]
  },
  {
   "cell_type": "code",
   "execution_count": 29,
   "id": "324974b8-266b-4334-8693-89d38c467ef2",
   "metadata": {},
   "outputs": [
    {
     "data": {
      "text/plain": [
       "1.0"
      ]
     },
     "execution_count": 29,
     "metadata": {},
     "output_type": "execute_result"
    }
   ],
   "source": [
    "# We can retrieve the trace for square matrices\n",
    "Matrix([[2.0, 2.0], [0.0, -1.0]]).trace()"
   ]
  },
  {
   "cell_type": "code",
   "execution_count": 30,
   "id": "ad1d2eed-1743-46f8-9425-e2dcc67dc3b9",
   "metadata": {},
   "outputs": [
    {
     "data": {
      "text/plain": [
       "7.745966692414834"
      ]
     },
     "execution_count": 30,
     "metadata": {},
     "output_type": "execute_result"
    }
   ],
   "source": [
    "# The same goes for norms\n",
    "matrix.frobenius()"
   ]
  },
  {
   "cell_type": "code",
   "execution_count": 31,
   "id": "7b75ab42-f36a-4064-b618-8bd87c350ac5",
   "metadata": {},
   "outputs": [],
   "source": [
    "# We can also directly release the memory allocated\n",
    "#  for a Matrix with:\n",
    "matrix.release()\n",
    "del matrix"
   ]
  },
  {
   "cell_type": "markdown",
   "id": "94227e91-4ccf-4dc7-881f-e95ae045d251",
   "metadata": {},
   "source": [
    "# Avoiding Vector/Matrix allocation"
   ]
  },
  {
   "cell_type": "code",
   "execution_count": 32,
   "id": "2462ac00-b62b-4c9b-a91c-6ef0244c8519",
   "metadata": {},
   "outputs": [
    {
     "data": {
      "text/plain": [
       "Vector([3.0, 3.0, 3.0, 3.0, 3.0, 3.0, 3.0, 3.0, 3.0, 3.0], dims=10, device=CPU)"
      ]
     },
     "execution_count": 32,
     "metadata": {},
     "output_type": "execute_result"
    }
   ],
   "source": [
    "# Whenever we apply an operation on a Vector/Matrix,\n",
    "#   a new object is allocated in memory to store the result.\n",
    "# The only exception are the 'i' operations (i.e., *=, +=, -=, etc),\n",
    "#   which edit the object in place.\n",
    "# However, for some extensive computation, it is desirable to\n",
    "#   waste as little memory and time as possible. Thus, the\n",
    "#   ShareDestination{Vector,Matrix} contexts allow for using\n",
    "#   a single shared object for most operation with vectors and matrices.\n",
    "a = Vector([1.0] * 10)\n",
    "b = Vector([2.0] * 10)\n",
    "with ShareDestionationVector(a, b) as result:\n",
    "    op1 = a + b\n",
    "    op2 = result * 2\n",
    "    op3 = result / 2\n",
    "\n",
    "# All op1, op2 and op3 vectors represent the\n",
    "#  same vector.\n",
    "result"
   ]
  },
  {
   "cell_type": "code",
   "execution_count": 33,
   "id": "2ec9cd66-6003-4ba8-93b6-6997f9ccfcb3",
   "metadata": {},
   "outputs": [
    {
     "data": {
      "text/plain": [
       "True"
      ]
     },
     "execution_count": 33,
     "metadata": {},
     "output_type": "execute_result"
    }
   ],
   "source": [
    "Vector.has_shared_data(op1, result)"
   ]
  },
  {
   "cell_type": "code",
   "execution_count": 34,
   "id": "e1a88bff-09b6-4b47-be22-8c0a9a89c8de",
   "metadata": {},
   "outputs": [
    {
     "data": {
      "text/plain": [
       "True"
      ]
     },
     "execution_count": 34,
     "metadata": {},
     "output_type": "execute_result"
    }
   ],
   "source": [
    "Vector.has_shared_data(op2, result)"
   ]
  },
  {
   "cell_type": "code",
   "execution_count": 35,
   "id": "32d5a4a5-fdda-45ec-bac7-924962595240",
   "metadata": {},
   "outputs": [
    {
     "data": {
      "text/plain": [
       "True"
      ]
     },
     "execution_count": 35,
     "metadata": {},
     "output_type": "execute_result"
    }
   ],
   "source": [
    "Vector.has_shared_data(op3, result)"
   ]
  }
 ],
 "metadata": {
  "kernelspec": {
   "display_name": "Python 3 (ipykernel)",
   "language": "python",
   "name": "python3"
  },
  "language_info": {
   "codemirror_mode": {
    "name": "ipython",
    "version": 3
   },
   "file_extension": ".py",
   "mimetype": "text/x-python",
   "name": "python",
   "nbconvert_exporter": "python",
   "pygments_lexer": "ipython3",
   "version": "3.13.2"
  }
 },
 "nbformat": 4,
 "nbformat_minor": 5
}
